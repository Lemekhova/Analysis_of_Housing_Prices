{
  "nbformat": 4,
  "nbformat_minor": 0,
  "metadata": {
    "colab": {
      "provenance": [],
      "toc_visible": true
    },
    "kernelspec": {
      "name": "python3",
      "display_name": "Python 3"
    },
    "language_info": {
      "name": "python"
    }
  },
  "cells": [
    {
      "cell_type": "markdown",
      "source": [
        "# **Исследование объявлений об аренде квартир. Часть 3. Проверка гипотез.**"
      ],
      "metadata": {
        "id": "IoUGitME-OHN"
      }
    },
    {
      "cell_type": "code",
      "execution_count": 1,
      "metadata": {
        "id": "BMPwZ3ExgUnG"
      },
      "outputs": [],
      "source": [
        "import pandas as pd\n",
        "from scipy.stats import ttest_ind"
      ]
    },
    {
      "cell_type": "code",
      "source": [
        "df = pd.read_csv('/content/data_clean.csv')"
      ],
      "metadata": {
        "id": "euBzs0AFgcnF"
      },
      "execution_count": 2,
      "outputs": []
    },
    {
      "cell_type": "markdown",
      "source": [
        "## Описание данных"
      ],
      "metadata": {
        "id": "yVXIrJC2_BkZ"
      }
    },
    {
      "cell_type": "markdown",
      "metadata": {
        "id": "VRH5S9HKKzQF"
      },
      "source": [
        "**metro** (text)\t-             Ближайшее метро\n",
        "\n",
        "**walk_to_metro_flg**\t(bool)\t-\tФлаг пешей доступности\n",
        "\n",
        "**address**\t(text)\t-\tАдрес\n",
        "\n",
        "**price**\t(float8) -\tЦена, руб.\n",
        "\n",
        "**m_sqarea**\t(float8)\t-\tМетраж, кв.м\n",
        "\n",
        "**floor_flat**\t(float8)\t-\tЭтаж\n",
        "\n",
        "**floor_max**\t(float8)\t-\tЭтажность дома\n",
        "\n",
        "**rooms**\t(int8)\t-\tКоличество комнат\n",
        "\n",
        "**latitude**\t(float8) -\tШирота\n",
        "\n",
        "**longitude**\t(float8)\t-\tДолгота\n",
        "\n",
        "**district_name** (text) - Округ\n",
        "\n",
        "**dist_to_center**\t(float8)\t-\tДальность от Кремля\n",
        "\n",
        "**r_per_meter**\t(float8)\t-\tРублей за метр\n",
        "\n",
        "**room_square**\t(float8)\t-\tСредняя площадь комнаты\n",
        "\n",
        "**Холодильник**\t(int8)\t-\tНаличие\tхолодильника\n",
        "\n",
        "**Посудомоечная машина**\t(int8)\t-\tНаличие\tпосудомоечной машины\n",
        "\n",
        "**Стиральная машина**\t(int8)\t-\tНаличие\tстиральной машины\n",
        "\n",
        "**Кондиционер**\t(int8)\t-\tНаличие кондиционера\n",
        "\n",
        "**Телевизор**\t(int8)\t-\tНаличие телевизора\n",
        "\n",
        "**Интернет**\t(int8)\t-\tНаличие интернета\n",
        "\n",
        "**Мебель на кухне**\t(int8)\t-\tНаличие мебели на кухне\n",
        "\n",
        "**Мебель в комнатах**\t(int8)\t-\tНаличие\tмебели в комнатах\n",
        "\n",
        "**Оплата ЖКХ**\t(text)\t-\tВходит ли стоимость в оплату\n",
        "\n",
        "**Залог**\t(int4) -\tСумма, руб.\n",
        "\n",
        "**Предоплата_месяцев**\t(int4)\t-\tКол-во месяцев\n",
        "\n",
        "**Срок аренды**\t(text)\t-\tОт года или нет\n",
        "\n",
        "**С животными**\t(bool)\t-\tРазрешено ли\n",
        "\n",
        "**С детьми**\t(bool)\t-\tРазрешено ли\n",
        "\n",
        "**Общая площадь**\t(float8)\t-\tПлощадь, кв.м\n",
        "\n",
        "**Жилая площадь**\t(float8)\t-\tПлощадь, кв.м\n",
        "\n",
        "**Площадь кухни**\t(float8)\t-\tПлощадь, кв.\n",
        "\n",
        "**Санузел**\t(text)\t-\tТип и кол-во\n",
        "\n",
        "**Балкон/лоджия**\t(text)\t-\tТип и кол-во\n",
        "\n",
        "**Вид из окон**\t(text)\t-\tКуда выходят окна\n",
        "\n",
        "**Ремонт**\t(text)\t-\tТип ремонта\n",
        "\n",
        "**Год постройки**\t(float8)\t-\tГод постройки\n",
        "\n",
        "**Количество лифтов**\t(text)\tДискретная количественная\tТип и кол-во\n",
        "\n",
        "**Тип перекрытий**\t(text)\t-\tТип\n",
        "\n",
        "**Парковка**\t(text)\t-\t  Тип\n",
        "\n",
        "**Отопление**\t(text) -\t  Тип\n",
        "\n",
        "**Аварийность**\t(int4)\t-\tДа или нет\n",
        "\n",
        "**school_1000m**\t(int8)\t-\tКол-во школ в радиусе\n",
        "\n",
        "**shops_200m**\t(int8)\t-\tКол-во магазинов в радиусе\n",
        "\n",
        "**theatre_1000m**\t(int8)\t-\tКол-во театров в радиусе\n",
        "\n",
        "**fitness_500m**\t(int8)\t-\tКол-во спортзалов в радиусе\n",
        "\n",
        "**cinemas_1500m**\t(int8)\t-\tКол-во кинотеатров в радиусе\n",
        "\n",
        "**foods_1000m**\t(int8)\t-\tКол-во точек питания в радиусе\n",
        "\n",
        "**kindergarten_500m**\t(int8)\t-\tКол-во детсадов в радиусе\t500 м\n",
        "\n",
        "**libraries_1000m**\t(int8)\t-\tКол-во библиотек в радиусе 1000 м\n",
        "\n",
        "**parks_2000m**\t(int8)\t-\tКол-во парков в радиусе\t2000 м\n",
        "\n",
        "**post_office_1000m**\t(int8)\t-\tКол-во почт в радиусе\t1000 м\n",
        "\n",
        "**climbing_1000m**\t(int8)\t-\tКол-во скалодромов в радиусе 1000 м\n",
        "\n",
        "**fields_1000m**\t(int8)\t-\tКол-во футб. полей в радиусе 1000 м\n",
        "\n",
        "**indoor_swimming_pool_1000m**\t(int8)\t-\tКол-во бассейнов в радиусе\n",
        "\n",
        "**malls_2000m**\t(int8)\t-\tКол-во тц в радиусе\n",
        "\n",
        "**outdoor_swimming_pool_1000m**\t(int8)\t-\tКол-во открытых бассейнов в радиусе\n",
        "\n",
        "**is_first_floor**\t(bool)\t-\tПервый этаж\n",
        "\n",
        "**is_max_floor**\t(bool)\t-\tПоследний этаж дома"
      ]
    },
    {
      "cell_type": "code",
      "source": [
        "df.info()"
      ],
      "metadata": {
        "colab": {
          "base_uri": "https://localhost:8080/"
        },
        "id": "EtuGJbAGgm00",
        "outputId": "9795ebe1-7bdb-470b-95d8-a4c7482fa8d1"
      },
      "execution_count": 3,
      "outputs": [
        {
          "output_type": "stream",
          "name": "stdout",
          "text": [
            "<class 'pandas.core.frame.DataFrame'>\n",
            "RangeIndex: 12851 entries, 0 to 12850\n",
            "Data columns (total 64 columns):\n",
            " #   Column                       Non-Null Count  Dtype  \n",
            "---  ------                       --------------  -----  \n",
            " 0   walk_to_metro_flg            12851 non-null  bool   \n",
            " 1   m_sqarea                     12851 non-null  float64\n",
            " 2   floor_flat                   12851 non-null  float64\n",
            " 3   floor_max                    12851 non-null  float64\n",
            " 4   rooms                        12851 non-null  int64  \n",
            " 5   district_name                12851 non-null  object \n",
            " 6   dist_to_center               12851 non-null  float64\n",
            " 7   r_per_meter                  12851 non-null  float64\n",
            " 8   room_square                  12851 non-null  float64\n",
            " 9   Холодильник                  12851 non-null  float64\n",
            " 10  Посудомоечная машина         12851 non-null  float64\n",
            " 11  Стиральная машина            12851 non-null  float64\n",
            " 12  Кондиционер                  12851 non-null  float64\n",
            " 13  Телевизор                    12851 non-null  float64\n",
            " 14  Интернет                     12851 non-null  float64\n",
            " 15  Мебель на кухне              12851 non-null  float64\n",
            " 16  Мебель в комнатах            12851 non-null  float64\n",
            " 17  Оплата ЖКХ                   12851 non-null  object \n",
            " 18  Срок аренды                  12851 non-null  object \n",
            " 19  С животными                  12851 non-null  object \n",
            " 20  С детьми                     12851 non-null  object \n",
            " 21  Площадь кухни                12851 non-null  float64\n",
            " 22  Ремонт                       12851 non-null  object \n",
            " 23  Год постройки                12851 non-null  float64\n",
            " 24  Тип перекрытий               12851 non-null  object \n",
            " 25  Парковка                     12851 non-null  object \n",
            " 26  Отопление                    12851 non-null  object \n",
            " 27  school_1000m                 12851 non-null  int64  \n",
            " 28  shops_200m                   12851 non-null  int64  \n",
            " 29  theatre_1000m                12851 non-null  int64  \n",
            " 30  fitness_500m                 12851 non-null  int64  \n",
            " 31  cinemas_1500m                12851 non-null  int64  \n",
            " 32  foods_1000m                  12851 non-null  int64  \n",
            " 33  kindergarten_500m            12851 non-null  int64  \n",
            " 34  libraries_1000m              12851 non-null  int64  \n",
            " 35  parks_2000m                  12851 non-null  int64  \n",
            " 36  post_office_1000m            12851 non-null  int64  \n",
            " 37  climbing_1000m               12851 non-null  int64  \n",
            " 38  fields_1000m                 12851 non-null  int64  \n",
            " 39  indoor_swimming_pool_1000m   12851 non-null  int64  \n",
            " 40  malls_2000m                  12851 non-null  int64  \n",
            " 41  outdoor_swimming_pool_1000m  12851 non-null  int64  \n",
            " 42  is_first_floor               12851 non-null  bool   \n",
            " 43  is_max_floor                 12851 non-null  bool   \n",
            " 44  сумма_лифтов                 12851 non-null  object \n",
            " 45  грузовой_лифт                12851 non-null  bool   \n",
            " 46  сумма_санузлов               12851 non-null  int64  \n",
            " 47  совмещенный                  12851 non-null  bool   \n",
            " 48  сумма_балконов               12851 non-null  int64  \n",
            " 49  балкон                       12851 non-null  bool   \n",
            " 50  park                         12851 non-null  bool   \n",
            " 51  school                       12851 non-null  bool   \n",
            " 52  shops                        12851 non-null  bool   \n",
            " 53  theatre                      12851 non-null  bool   \n",
            " 54  fitness                      12851 non-null  bool   \n",
            " 55  cinemas                      12851 non-null  bool   \n",
            " 56  foods                        12851 non-null  bool   \n",
            " 57  kindergarten                 12851 non-null  bool   \n",
            " 58  libraries                    12851 non-null  bool   \n",
            " 59  climbing                     12851 non-null  bool   \n",
            " 60  fields                       12851 non-null  bool   \n",
            " 61  outdoor_swimming_pool        12851 non-null  bool   \n",
            " 62  indoor_swimming_pool         12851 non-null  bool   \n",
            " 63  malls                        12851 non-null  bool   \n",
            "dtypes: bool(20), float64(16), int64(18), object(10)\n",
            "memory usage: 4.6+ MB\n"
          ]
        }
      ]
    },
    {
      "cell_type": "markdown",
      "source": [
        "# **Гипотеза**\n",
        "\n",
        "Стоимоть аренды за квадратный метр зависит от количества объектов инфраструктуры. Если в округе количество объектов инфраструктуры больше среднего, то стоимость будет выше."
      ],
      "metadata": {
        "id": "Hal3HtKk_Lp8"
      }
    },
    {
      "cell_type": "code",
      "source": [
        "# Отберем интересующие нас столбцы:\n",
        "# На что влияние: 'r_per_meter'\n",
        "# Разбивка на районы: 'district_name'\n",
        "# Объекты влияния: 'walk_to_metro_flg', 'school_1000m', 'shops_200m', 'theatre_1000m', 'fitness_500m', 'cinemas_1500m',\n",
        "# 'foods_1000m', 'kindergarten_500m', 'libraries_1000m', 'parks_2000m', 'post_office_1000m', 'climbing_1000m', 'fields_1000m',\n",
        "# 'indoor_swimming_pool_1000m','malls_2000m', 'outdoor_swimming_pool_1000m'\n",
        "\n",
        "selected_columns = ['r_per_meter', 'district_name', 'walk_to_metro_flg', 'school_1000m', 'shops_200m', 'theatre_1000m',\n",
        "                    'fitness_500m', 'cinemas_1500m', 'foods_1000m', 'kindergarten_500m', 'libraries_1000m', 'parks_2000m',\n",
        "                    'post_office_1000m', 'climbing_1000m', 'fields_1000m', 'indoor_swimming_pool_1000m','malls_2000m',\n",
        "                    'outdoor_swimming_pool_1000m']\n",
        "df = df[selected_columns]"
      ],
      "metadata": {
        "id": "8TkzosK7gonI"
      },
      "execution_count": 4,
      "outputs": []
    },
    {
      "cell_type": "code",
      "source": [
        "df.info()"
      ],
      "metadata": {
        "colab": {
          "base_uri": "https://localhost:8080/"
        },
        "id": "xPn_sR8G5c5e",
        "outputId": "5ab03515-011a-41f8-ff36-a847f3a994df"
      },
      "execution_count": 5,
      "outputs": [
        {
          "output_type": "stream",
          "name": "stdout",
          "text": [
            "<class 'pandas.core.frame.DataFrame'>\n",
            "RangeIndex: 12851 entries, 0 to 12850\n",
            "Data columns (total 18 columns):\n",
            " #   Column                       Non-Null Count  Dtype  \n",
            "---  ------                       --------------  -----  \n",
            " 0   r_per_meter                  12851 non-null  float64\n",
            " 1   district_name                12851 non-null  object \n",
            " 2   walk_to_metro_flg            12851 non-null  bool   \n",
            " 3   school_1000m                 12851 non-null  int64  \n",
            " 4   shops_200m                   12851 non-null  int64  \n",
            " 5   theatre_1000m                12851 non-null  int64  \n",
            " 6   fitness_500m                 12851 non-null  int64  \n",
            " 7   cinemas_1500m                12851 non-null  int64  \n",
            " 8   foods_1000m                  12851 non-null  int64  \n",
            " 9   kindergarten_500m            12851 non-null  int64  \n",
            " 10  libraries_1000m              12851 non-null  int64  \n",
            " 11  parks_2000m                  12851 non-null  int64  \n",
            " 12  post_office_1000m            12851 non-null  int64  \n",
            " 13  climbing_1000m               12851 non-null  int64  \n",
            " 14  fields_1000m                 12851 non-null  int64  \n",
            " 15  indoor_swimming_pool_1000m   12851 non-null  int64  \n",
            " 16  malls_2000m                  12851 non-null  int64  \n",
            " 17  outdoor_swimming_pool_1000m  12851 non-null  int64  \n",
            "dtypes: bool(1), float64(1), int64(15), object(1)\n",
            "memory usage: 1.7+ MB\n"
          ]
        }
      ]
    },
    {
      "cell_type": "code",
      "source": [
        "df['walk_to_metro_flg'] = df['walk_to_metro_flg'].astype(int) # Преобразовали bool в int в одном столбце"
      ],
      "metadata": {
        "id": "CLWd-M2Z5a_-"
      },
      "execution_count": 6,
      "outputs": []
    },
    {
      "cell_type": "markdown",
      "source": [
        "## 1. Проанализируем совокупное количество объектов инфраструктуры — для каждой квартиры рассчитаем сумму всех доступных элементов окружающей среды (количество детских садов, школ, парков и др.), чтобы оценить влияние общей инфраструктурной насыщенности."
      ],
      "metadata": {
        "id": "cKAF5d39A3Du"
      }
    },
    {
      "cell_type": "markdown",
      "source": [
        "### 1.1 Гипотеза для всего города"
      ],
      "metadata": {
        "id": "XZOXUEqgCn2Q"
      }
    },
    {
      "cell_type": "code",
      "source": [
        "# Столбцы с инфраструктурой\n",
        "infra_cols = ['walk_to_metro_flg', 'school_1000m', 'shops_200m', 'theatre_1000m',\n",
        "              'fitness_500m', 'cinemas_1500m', 'foods_1000m', 'kindergarten_500m', 'libraries_1000m', 'parks_2000m',\n",
        "              'post_office_1000m', 'climbing_1000m', 'fields_1000m', 'indoor_swimming_pool_1000m','malls_2000m',\n",
        "              'outdoor_swimming_pool_1000m']\n",
        "df['infra_sum'] = df[infra_cols].sum(axis=1) # Сумма объектов инфраструктуры"
      ],
      "metadata": {
        "id": "VCqxmA-hhkYn"
      },
      "execution_count": 7,
      "outputs": []
    },
    {
      "cell_type": "code",
      "source": [
        "infra_mean = df['infra_sum'].mean()\n",
        "df['infra_group'] = df['infra_sum'] > infra_mean"
      ],
      "metadata": {
        "id": "lE_WY4wu59iQ"
      },
      "execution_count": 8,
      "outputs": []
    },
    {
      "cell_type": "code",
      "source": [
        "# Глобальная проверка\n",
        "group_high = df[df['infra_group']]['r_per_meter']\n",
        "group_low = df[~df['infra_group']]['r_per_meter']\n",
        "\n",
        "stat, pval = ttest_ind(group_high, group_low, equal_var=False)  # Welch t-test\n",
        "\n",
        "print(f\"Глобально: p-value = {pval:.4f}\")\n",
        "if pval < 0.05:\n",
        "    print(\"Отвергаем H₀: Стоимость действительно выше при большей инфраструктуре\")\n",
        "else:\n",
        "    print(\"Не отвергаем H₀: Разницы не выявлено\")"
      ],
      "metadata": {
        "colab": {
          "base_uri": "https://localhost:8080/"
        },
        "id": "vtKH1uHE6C6J",
        "outputId": "7d1793cd-61eb-420c-ce1b-2263dcfeac22"
      },
      "execution_count": 9,
      "outputs": [
        {
          "output_type": "stream",
          "name": "stdout",
          "text": [
            "Глобально: p-value = 0.0000\n",
            "Отвергаем H₀: Стоимость действительно выше при большей инфраструктуре\n"
          ]
        }
      ]
    },
    {
      "cell_type": "markdown",
      "source": [
        "### 1.2 Гипотеза для каждого района города"
      ],
      "metadata": {
        "id": "5dFJOE1PDL2-"
      }
    },
    {
      "cell_type": "code",
      "source": [
        "infra_mean_district = df.groupby('district_name')['infra_sum'].transform('mean')\n",
        "df['infra_group_district'] = df['infra_sum'] > infra_mean_district"
      ],
      "metadata": {
        "id": "8lfY28ZCDfG5"
      },
      "execution_count": 10,
      "outputs": []
    },
    {
      "cell_type": "code",
      "source": [
        "district_results = []\n",
        "\n",
        "for district in df['district_name'].unique():\n",
        "    df_district = df[df['district_name'] == district]\n",
        "\n",
        "    high = df_district[df_district['infra_group_district']]['r_per_meter']\n",
        "    low = df_district[~df_district['infra_group_district']]['r_per_meter']\n",
        "\n",
        "    if len(high) > 5 and len(low) > 5:  # минимальный размер выборки\n",
        "        stat, p = ttest_ind(high, low, equal_var=False)\n",
        "        result = 'Разница есть' if p < 0.05 else 'Разницы нет'\n",
        "        district_results.append((district, p, result))\n",
        "\n",
        "# Вывод\n",
        "result_df = pd.DataFrame(district_results, columns=['Район', 'p-value', 'Гипотеза'])\n",
        "print(result_df.sort_values('p-value'))"
      ],
      "metadata": {
        "colab": {
          "base_uri": "https://localhost:8080/"
        },
        "id": "Ik93g2mj6ZoU",
        "outputId": "300884d9-bc10-48af-89a8-779e9454dbe8"
      },
      "execution_count": 11,
      "outputs": [
        {
          "output_type": "stream",
          "name": "stdout",
          "text": [
            "                                      Район       p-value      Гипотеза\n",
            "3              Южный административный округ  1.249191e-40  Разница есть\n",
            "8           Северный административный округ  3.641950e-34  Разница есть\n",
            "5   Северо-Восточный административный округ  4.093133e-17  Разница есть\n",
            "4       Юго-Западный административный округ  3.930093e-10  Разница есть\n",
            "7        Центральный административный округ  4.994866e-09  Разница есть\n",
            "6           Западный административный округ  4.595127e-05  Разница есть\n",
            "1           Троицкий административный округ  2.477998e-04  Разница есть\n",
            "0          Восточный административный округ  5.105993e-04  Разница есть\n",
            "10   Северо-Западный административный округ  4.493081e-03  Разница есть\n",
            "11    Зеленоградский административный округ  1.293487e-02  Разница есть\n",
            "2      Юго-Восточный административный округ  1.871107e-01   Разницы нет\n",
            "9     Новомосковский административный округ  2.174319e-01   Разницы нет\n"
          ]
        }
      ]
    },
    {
      "cell_type": "markdown",
      "source": [
        "# 2. Для каждого типа инфраструктуры будем учитывать только факт её наличия — независимо от количества объектов (например, наличие хотя бы одного детского сада засчитывается как 1). На основе суммы таких наличий проанализируем влияние инфраструктуры на стоимость жилья."
      ],
      "metadata": {
        "id": "517HvbpHE3b6"
      }
    },
    {
      "cell_type": "code",
      "source": [
        "df[infra_cols] = df[infra_cols].astype(bool).astype(int) # Преобразуем наличие объектов в bool"
      ],
      "metadata": {
        "id": "ipkWimwv7o9K"
      },
      "execution_count": 12,
      "outputs": []
    },
    {
      "cell_type": "markdown",
      "source": [
        "## 2.1 Гипотеза для всего города"
      ],
      "metadata": {
        "id": "NgMPcxqHF3fe"
      }
    },
    {
      "cell_type": "code",
      "source": [
        "df['infra_bool_sum'] = df[infra_cols].sum(axis=1)\n",
        "infra_bool_mean = df['infra_bool_sum'].mean()\n",
        "df['infra_bool_group'] = df['infra_bool_sum'] > infra_bool_mean"
      ],
      "metadata": {
        "id": "DMOMy7BI796h"
      },
      "execution_count": 13,
      "outputs": []
    },
    {
      "cell_type": "code",
      "source": [
        "# Глобальная проверка\n",
        "group_high = df[df['infra_bool_group']]['r_per_meter']\n",
        "group_low = df[~df['infra_bool_group']]['r_per_meter']\n",
        "\n",
        "stat, pval = ttest_ind(group_high, group_low, equal_var=False)  # Welch t-test\n",
        "\n",
        "print(f\"Глобально: p-value = {pval:.4f}\")\n",
        "if pval < 0.05:\n",
        "    print(\"Отвергаем H₀: Стоимость действительно выше при большей инфраструктуре\")\n",
        "else:\n",
        "    print(\"Не отвергаем H₀: Разницы не выявлено\")"
      ],
      "metadata": {
        "colab": {
          "base_uri": "https://localhost:8080/"
        },
        "id": "_ABZ6IxF7-qU",
        "outputId": "86fe8981-09f3-4519-9771-69b602753404"
      },
      "execution_count": 14,
      "outputs": [
        {
          "output_type": "stream",
          "name": "stdout",
          "text": [
            "Глобально: p-value = 0.0000\n",
            "Отвергаем H₀: Стоимость действительно выше при большей инфраструктуре\n"
          ]
        }
      ]
    },
    {
      "cell_type": "markdown",
      "source": [
        "## 2.2 Гипотеза для каждого района города"
      ],
      "metadata": {
        "id": "5jhsOUDqF_H7"
      }
    },
    {
      "cell_type": "code",
      "source": [
        "infra_bool_mean_district = df.groupby('district_name')['infra_bool_sum'].transform('mean')\n",
        "df['infra_bool_group_district'] = df['infra_bool_sum'] > infra_bool_mean_district"
      ],
      "metadata": {
        "id": "ZFCIRQIAGI2i"
      },
      "execution_count": 15,
      "outputs": []
    },
    {
      "cell_type": "code",
      "source": [
        "district_results = []\n",
        "\n",
        "for district in df['district_name'].unique():\n",
        "    df_district = df[df['district_name'] == district]\n",
        "\n",
        "    high = df_district[df_district['infra_bool_group_district']]['r_per_meter']\n",
        "    low = df_district[~df_district['infra_bool_group_district']]['r_per_meter']\n",
        "\n",
        "    if len(high) > 5 and len(low) > 5:  # минимальный размер выборки\n",
        "        stat, p = ttest_ind(high, low, equal_var=False)\n",
        "        result = 'Разница есть' if p < 0.05 else 'Разницы нет'\n",
        "        district_results.append((district, p, result))\n",
        "\n",
        "# Вывод\n",
        "result_df = pd.DataFrame(district_results, columns=['Район', 'p-value', 'Гипотеза'])\n",
        "print(result_df.sort_values('p-value'))"
      ],
      "metadata": {
        "colab": {
          "base_uri": "https://localhost:8080/"
        },
        "id": "n9gT1eVA8eXS",
        "outputId": "2639b06a-36c3-4b37-b03b-b7c1ec46214d"
      },
      "execution_count": 16,
      "outputs": [
        {
          "output_type": "stream",
          "name": "stdout",
          "text": [
            "                                      Район       p-value      Гипотеза\n",
            "10   Северо-Западный административный округ  2.123099e-11  Разница есть\n",
            "4       Юго-Западный административный округ  1.213861e-07  Разница есть\n",
            "2      Юго-Восточный административный округ  4.524211e-04  Разница есть\n",
            "6           Западный административный округ  8.194326e-04  Разница есть\n",
            "9     Новомосковский административный округ  6.445428e-03  Разница есть\n",
            "11    Зеленоградский административный округ  8.118779e-03  Разница есть\n",
            "0          Восточный административный округ  2.030284e-02  Разница есть\n",
            "8           Северный административный округ  2.555709e-02  Разница есть\n",
            "1           Троицкий административный округ  4.837347e-02  Разница есть\n",
            "7        Центральный административный округ  1.276315e-01   Разницы нет\n",
            "5   Северо-Восточный административный округ  1.852115e-01   Разницы нет\n",
            "3              Южный административный округ  3.020410e-01   Разницы нет\n"
          ]
        }
      ]
    }
  ]
}