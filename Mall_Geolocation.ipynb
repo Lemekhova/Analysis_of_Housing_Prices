{
  "nbformat": 4,
  "nbformat_minor": 0,
  "metadata": {
    "colab": {
      "provenance": []
    },
    "kernelspec": {
      "name": "python3",
      "display_name": "Python 3"
    },
    "language_info": {
      "name": "python"
    }
  },
  "cells": [
    {
      "cell_type": "code",
      "source": [
        "import requests\n",
        "\n",
        "# Ваш ключ API\n",
        "YANDEX_API_KEY = \"7ef96676-e97f-4e5c-a999-c5db77c99895\"\n",
        "\n",
        "# Базовый URL для Geocoder API\n",
        "GEOCODER_URL = \"https://geocode-maps.yandex.ru/1.x/\"\n",
        "\n",
        "# Функция для получения координат по запросу\n",
        "def get_coordinates(query, apikey, city=\"Москва\"):\n",
        "    params = {\n",
        "        \"apikey\": apikey,\n",
        "        \"geocode\": f\"{city}, {query}\",  # Запрос с уточнением города\n",
        "        \"format\": \"json\",              # Результат в формате JSON\n",
        "    }\n",
        "    response = requests.get(GEOCODER_URL, params=params)\n",
        "    if response.status_code == 200:\n",
        "        data = response.json()\n",
        "        try:\n",
        "            # Получение координат первого найденного объекта\n",
        "            pos = (\n",
        "                data[\"response\"][\"GeoObjectCollection\"][\"featureMember\"][0]\n",
        "                [\"GeoObject\"][\"Point\"][\"pos\"]\n",
        "            )\n",
        "            # Координаты возвращаются в виде строки \"долгота широта\", преобразуем их\n",
        "            lon, lat = map(float, pos.split())\n",
        "            return lat, lon\n",
        "        except (IndexError, KeyError):\n",
        "            print(f\"Не удалось найти объект: {query}\")\n",
        "            return None\n",
        "    else:\n",
        "        print(f\"Ошибка {response.status_code}: {response.text}\")\n",
        "        return None\n",
        "\n",
        "# Список торговых центров\n",
        "malls = [\n",
        "    \"Афимолл Сити\",\n",
        "    \"Охотный Ряд\",\n",
        "    \"Метрополис\",\n",
        "    \"Авиапарк\",\n",
        "    \"Ривьера\",\n",
        "]\n",
        "\n",
        "# Получение координат для каждого ТЦ\n",
        "mall_coordinates = {}\n",
        "for mall in malls:\n",
        "    coords = get_coordinates(mall, YANDEX_API_KEY)\n",
        "    if coords:\n",
        "        mall_coordinates[mall] = coords\n",
        "\n",
        "# Вывод результатов\n",
        "for mall, coords in mall_coordinates.items():\n",
        "    print(f\"{mall}: {coords}\")\n"
      ],
      "metadata": {
        "colab": {
          "base_uri": "https://localhost:8080/"
        },
        "id": "5FURqElgZ6xN",
        "outputId": "4ae86cda-fb01-4f9a-ae12-a64bf8db91a0"
      },
      "execution_count": 1,
      "outputs": [
        {
          "output_type": "stream",
          "name": "stdout",
          "text": [
            "Афимолл Сити: (55.829709, 37.402839)\n",
            "Охотный Ряд: (55.757536, 37.616414)\n",
            "Метрополис: (55.755819, 37.617644)\n",
            "Авиапарк: (55.755819, 37.617644)\n",
            "Ривьера: (55.718882, 37.478019)\n"
          ]
        }
      ]
    }
  ]
}